{
 "cells": [
  {
   "cell_type": "code",
   "execution_count": 1,
   "id": "c4069c1b",
   "metadata": {},
   "outputs": [
    {
     "name": "stdout",
     "output_type": "stream",
     "text": [
      "Requirement already satisfied: pyspark in c:\\users\\bhupe\\anaconda3\\lib\\site-packages (3.3.2)\n",
      "Requirement already satisfied: py4j==0.10.9.5 in c:\\users\\bhupe\\anaconda3\\lib\\site-packages (from pyspark) (0.10.9.5)\n"
     ]
    }
   ],
   "source": [
    "!pip install pyspark"
   ]
  },
  {
   "cell_type": "code",
   "execution_count": 2,
   "id": "7a66c52e",
   "metadata": {},
   "outputs": [],
   "source": [
    "import pyspark"
   ]
  },
  {
   "cell_type": "code",
   "execution_count": 3,
   "id": "b9c8c413",
   "metadata": {},
   "outputs": [],
   "source": [
    "from pyspark.sql import SparkSession"
   ]
  },
  {
   "cell_type": "code",
   "execution_count": 4,
   "id": "fe41658b",
   "metadata": {
    "scrolled": true
   },
   "outputs": [
    {
     "data": {
      "text/html": [
       "\n",
       "            <div>\n",
       "                <p><b>SparkSession - in-memory</b></p>\n",
       "                \n",
       "        <div>\n",
       "            <p><b>SparkContext</b></p>\n",
       "\n",
       "            <p><a href=\"http://192.168.0.102:4040\">Spark UI</a></p>\n",
       "\n",
       "            <dl>\n",
       "              <dt>Version</dt>\n",
       "                <dd><code>v3.3.2</code></dd>\n",
       "              <dt>Master</dt>\n",
       "                <dd><code>local[*]</code></dd>\n",
       "              <dt>AppName</dt>\n",
       "                <dd><code>Practice</code></dd>\n",
       "            </dl>\n",
       "        </div>\n",
       "        \n",
       "            </div>\n",
       "        "
      ],
      "text/plain": [
       "<pyspark.sql.session.SparkSession at 0x2802fc32b20>"
      ]
     },
     "execution_count": 4,
     "metadata": {},
     "output_type": "execute_result"
    }
   ],
   "source": [
    "spark = SparkSession.builder.appName(\"Practice\").getOrCreate()\n",
    "spark"
   ]
  },
  {
   "cell_type": "code",
   "execution_count": 8,
   "id": "03e8ddb3",
   "metadata": {},
   "outputs": [
    {
     "name": "stdout",
     "output_type": "stream",
     "text": [
      "+------+-------+----+-------+---+---+\n",
      "|   _c0|    _c1| _c2|    _c3|_c4|_c5|\n",
      "+------+-------+----+-------+---+---+\n",
      "|emp_id|   name|dept|salary |age|sex|\n",
      "|     1|  argha|sale|  10000| 25|  M|\n",
      "|     2|  sohag|tech|  20000| 25|  M|\n",
      "|     7|  soura|tech|  30000| 25|  M|\n",
      "|     4| shivam|tech|  10000| 26|  F|\n",
      "|     5|  lohit|  hr|  40000| 26|  F|\n",
      "|     6|prakash|  hr|  50000| 26|  M|\n",
      "|     8|sourabh|tech|  60000| 24|  F|\n",
      "|    10|  biswa|sale|  50000| 27|  M|\n",
      "|     7|  soura|tech|  30000| 25|  M|\n",
      "|     6|prakash|  hr|  50000| 26|  M|\n",
      "|     4| shivam|tech|  10000| 26|  F|\n",
      "+------+-------+----+-------+---+---+\n",
      "\n"
     ]
    }
   ],
   "source": [
    "df_pyspark = spark.read.csv(r\"C:\\Users\\bhupe\\OneDrive\\Desktop\\Portfolio Project\\SQL Project\\Interview Prep\\emp1.csv\")\n",
    "df_pyspark.show()"
   ]
  },
  {
   "cell_type": "code",
   "execution_count": 11,
   "id": "f6b58436",
   "metadata": {},
   "outputs": [
    {
     "name": "stdout",
     "output_type": "stream",
     "text": [
      "+------+-------+----+-------+---+---+\n",
      "|emp_id|   name|dept|salary |age|sex|\n",
      "+------+-------+----+-------+---+---+\n",
      "|     1|  argha|sale|  10000| 25|  M|\n",
      "|     2|  sohag|tech|  20000| 25|  M|\n",
      "|     7|  soura|tech|  30000| 25|  M|\n",
      "|     4| shivam|tech|  10000| 26|  F|\n",
      "|     5|  lohit|  hr|  40000| 26|  F|\n",
      "|     6|prakash|  hr|  50000| 26|  M|\n",
      "|     8|sourabh|tech|  60000| 24|  F|\n",
      "|    10|  biswa|sale|  50000| 27|  M|\n",
      "|     7|  soura|tech|  30000| 25|  M|\n",
      "|     6|prakash|  hr|  50000| 26|  M|\n",
      "|     4| shivam|tech|  10000| 26|  F|\n",
      "+------+-------+----+-------+---+---+\n",
      "\n"
     ]
    },
    {
     "data": {
      "text/plain": [
       "pyspark.sql.dataframe.DataFrame"
      ]
     },
     "execution_count": 11,
     "metadata": {},
     "output_type": "execute_result"
    }
   ],
   "source": [
    "df_pyspark = spark.read.option(\"header\", \"true\").csv(r\"C:\\Users\\bhupe\\OneDrive\\Desktop\\Portfolio Project\\SQL Project\\Interview Prep\\emp1.csv\")\n",
    "df_pyspark\n",
    "df_pyspark.show()\n",
    "type(df_pyspark)"
   ]
  },
  {
   "cell_type": "code",
   "execution_count": 12,
   "id": "962692a5",
   "metadata": {},
   "outputs": [
    {
     "name": "stdout",
     "output_type": "stream",
     "text": [
      "root\n",
      " |-- emp_id: string (nullable = true)\n",
      " |-- name: string (nullable = true)\n",
      " |-- dept: string (nullable = true)\n",
      " |-- salary : string (nullable = true)\n",
      " |-- age: string (nullable = true)\n",
      " |-- sex: string (nullable = true)\n",
      "\n"
     ]
    }
   ],
   "source": [
    "df_pyspark.printSchema()"
   ]
  },
  {
   "cell_type": "code",
   "execution_count": null,
   "id": "fd848227",
   "metadata": {},
   "outputs": [],
   "source": []
  }
 ],
 "metadata": {
  "kernelspec": {
   "display_name": "Python 3 (ipykernel)",
   "language": "python",
   "name": "python3"
  },
  "language_info": {
   "codemirror_mode": {
    "name": "ipython",
    "version": 3
   },
   "file_extension": ".py",
   "mimetype": "text/x-python",
   "name": "python",
   "nbconvert_exporter": "python",
   "pygments_lexer": "ipython3",
   "version": "3.9.13"
  }
 },
 "nbformat": 4,
 "nbformat_minor": 5
}
