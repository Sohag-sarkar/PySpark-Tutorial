{
 "cells": [
  {
   "cell_type": "code",
   "execution_count": 1,
   "id": "67d070ad",
   "metadata": {},
   "outputs": [],
   "source": [
    "from pyspark.sql import SparkSession"
   ]
  },
  {
   "cell_type": "code",
   "execution_count": 2,
   "id": "90a9b979",
   "metadata": {},
   "outputs": [
    {
     "data": {
      "text/html": [
       "\n",
       "            <div>\n",
       "                <p><b>SparkSession - in-memory</b></p>\n",
       "                \n",
       "        <div>\n",
       "            <p><b>SparkContext</b></p>\n",
       "\n",
       "            <p><a href=\"http://192.168.0.102:4042\">Spark UI</a></p>\n",
       "\n",
       "            <dl>\n",
       "              <dt>Version</dt>\n",
       "                <dd><code>v3.3.2</code></dd>\n",
       "              <dt>Master</dt>\n",
       "                <dd><code>local[*]</code></dd>\n",
       "              <dt>AppName</dt>\n",
       "                <dd><code>dataframe</code></dd>\n",
       "            </dl>\n",
       "        </div>\n",
       "        \n",
       "            </div>\n",
       "        "
      ],
      "text/plain": [
       "<pyspark.sql.session.SparkSession at 0x13f4babfac0>"
      ]
     },
     "execution_count": 2,
     "metadata": {},
     "output_type": "execute_result"
    }
   ],
   "source": [
    "spark = SparkSession.builder.appName(\"dataframe\").getOrCreate()\n",
    "spark"
   ]
  },
  {
   "cell_type": "code",
   "execution_count": 22,
   "id": "e34b2da6",
   "metadata": {
    "scrolled": true
   },
   "outputs": [
    {
     "name": "stdout",
     "output_type": "stream",
     "text": [
      "+------+-------+----+-------+---+---+\n",
      "|emp_id|   name|dept|salary |age|sex|\n",
      "+------+-------+----+-------+---+---+\n",
      "|     1|  argha|sale|  10000| 25|  M|\n",
      "|     2|  sohag|tech|  20000| 25|  M|\n",
      "|     7|  soura|tech|  30000| 25|  M|\n",
      "|     4| shivam|tech|  10000| 26|  F|\n",
      "|     5|  lohit|  hr|  40000| 26|  F|\n",
      "|     6|prakash|  hr|  50000| 26|  M|\n",
      "|     8|sourabh|tech|  60000| 24|  F|\n",
      "|    10|  biswa|sale|  50000| 27|  M|\n",
      "|     7|  soura|tech|  30000| 25|  M|\n",
      "|     6|prakash|  hr|  50000| 26|  M|\n",
      "|     4| shivam|tech|  10000| 26|  F|\n",
      "+------+-------+----+-------+---+---+\n",
      "\n"
     ]
    }
   ],
   "source": [
    "df = spark.read.csv(r\"C:\\Users\\bhupe\\OneDrive\\Desktop\\Portfolio Project\\SQL Project\\Interview Prep\\emp1.csv\", header= True, inferSchema = True)\n",
    "df.show()"
   ]
  },
  {
   "cell_type": "code",
   "execution_count": 25,
   "id": "dfa8570c",
   "metadata": {},
   "outputs": [
    {
     "data": {
      "text/plain": [
       "['emp_id', 'name', 'dept', 'salary', 'age', 'sex']"
      ]
     },
     "execution_count": 25,
     "metadata": {},
     "output_type": "execute_result"
    }
   ],
   "source": [
    "df = df.withColumnRenamed(\"salary \", \"salary\")\n",
    "df.columns"
   ]
  },
  {
   "cell_type": "code",
   "execution_count": 26,
   "id": "0e8ffad7",
   "metadata": {},
   "outputs": [
    {
     "name": "stdout",
     "output_type": "stream",
     "text": [
      "+------+-------+----+------+---+---+\n",
      "|emp_id|   name|dept|salary|age|sex|\n",
      "+------+-------+----+------+---+---+\n",
      "|     4| shivam|tech| 10000| 26|  F|\n",
      "|     5|  lohit|  hr| 40000| 26|  F|\n",
      "|     6|prakash|  hr| 50000| 26|  M|\n",
      "|    10|  biswa|sale| 50000| 27|  M|\n",
      "|     6|prakash|  hr| 50000| 26|  M|\n",
      "|     4| shivam|tech| 10000| 26|  F|\n",
      "+------+-------+----+------+---+---+\n",
      "\n"
     ]
    }
   ],
   "source": [
    "df[df[\"age\"]>= 26].show()"
   ]
  },
  {
   "cell_type": "code",
   "execution_count": 27,
   "id": "a4aecc30",
   "metadata": {
    "scrolled": true
   },
   "outputs": [
    {
     "name": "stdout",
     "output_type": "stream",
     "text": [
      "+------+-------+----+------+---+---+\n",
      "|emp_id|   name|dept|salary|age|sex|\n",
      "+------+-------+----+------+---+---+\n",
      "|     2|  sohag|tech| 20000| 25|  M|\n",
      "|     7|  soura|tech| 30000| 25|  M|\n",
      "|     5|  lohit|  hr| 40000| 26|  F|\n",
      "|     6|prakash|  hr| 50000| 26|  M|\n",
      "|     8|sourabh|tech| 60000| 24|  F|\n",
      "|    10|  biswa|sale| 50000| 27|  M|\n",
      "|     7|  soura|tech| 30000| 25|  M|\n",
      "|     6|prakash|  hr| 50000| 26|  M|\n",
      "+------+-------+----+------+---+---+\n",
      "\n"
     ]
    }
   ],
   "source": [
    "df.filter(\"salary>= 20000\").show()"
   ]
  },
  {
   "cell_type": "code",
   "execution_count": 28,
   "id": "a461205b",
   "metadata": {},
   "outputs": [
    {
     "name": "stdout",
     "output_type": "stream",
     "text": [
      "+-------+----+\n",
      "|   name|dept|\n",
      "+-------+----+\n",
      "|  sohag|tech|\n",
      "|  soura|tech|\n",
      "|  lohit|  hr|\n",
      "|prakash|  hr|\n",
      "|sourabh|tech|\n",
      "|  biswa|sale|\n",
      "|  soura|tech|\n",
      "|prakash|  hr|\n",
      "+-------+----+\n",
      "\n"
     ]
    }
   ],
   "source": [
    "df.filter(\"salary>= 20000\").select([\"name\",\"dept\"]).show()"
   ]
  },
  {
   "cell_type": "code",
   "execution_count": 32,
   "id": "29551c56",
   "metadata": {},
   "outputs": [
    {
     "name": "stdout",
     "output_type": "stream",
     "text": [
      "+------+-----+----+------+---+---+\n",
      "|emp_id| name|dept|salary|age|sex|\n",
      "+------+-----+----+------+---+---+\n",
      "|     2|sohag|tech| 20000| 25|  M|\n",
      "|     7|soura|tech| 30000| 25|  M|\n",
      "|     7|soura|tech| 30000| 25|  M|\n",
      "+------+-----+----+------+---+---+\n",
      "\n"
     ]
    }
   ],
   "source": [
    "df.filter((df[\"salary\"] >=20000) & (df[\"salary\"]<= 35000)).show()"
   ]
  },
  {
   "cell_type": "code",
   "execution_count": 33,
   "id": "4b8b9105",
   "metadata": {},
   "outputs": [
    {
     "name": "stdout",
     "output_type": "stream",
     "text": [
      "+------+-------+----+------+---+---+\n",
      "|emp_id|   name|dept|salary|age|sex|\n",
      "+------+-------+----+------+---+---+\n",
      "|     1|  argha|sale| 10000| 25|  M|\n",
      "|     2|  sohag|tech| 20000| 25|  M|\n",
      "|     7|  soura|tech| 30000| 25|  M|\n",
      "|     4| shivam|tech| 10000| 26|  F|\n",
      "|     5|  lohit|  hr| 40000| 26|  F|\n",
      "|     6|prakash|  hr| 50000| 26|  M|\n",
      "|     8|sourabh|tech| 60000| 24|  F|\n",
      "|    10|  biswa|sale| 50000| 27|  M|\n",
      "|     7|  soura|tech| 30000| 25|  M|\n",
      "|     6|prakash|  hr| 50000| 26|  M|\n",
      "|     4| shivam|tech| 10000| 26|  F|\n",
      "+------+-------+----+------+---+---+\n",
      "\n"
     ]
    }
   ],
   "source": [
    "df.filter((df[\"salary\"] >=20000) | (df[\"salary\"]<= 35000)).show()"
   ]
  },
  {
   "cell_type": "code",
   "execution_count": 37,
   "id": "c76b3efc",
   "metadata": {},
   "outputs": [
    {
     "name": "stdout",
     "output_type": "stream",
     "text": [
      "+------+------+----+------+---+---+\n",
      "|emp_id|  name|dept|salary|age|sex|\n",
      "+------+------+----+------+---+---+\n",
      "|     1| argha|sale| 10000| 25|  M|\n",
      "|     2| sohag|tech| 20000| 25|  M|\n",
      "|     4|shivam|tech| 10000| 26|  F|\n",
      "|     4|shivam|tech| 10000| 26|  F|\n",
      "+------+------+----+------+---+---+\n",
      "\n"
     ]
    }
   ],
   "source": [
    "df.filter( ~(df[\"salary\"] >= 30000)).show()"
   ]
  },
  {
   "cell_type": "code",
   "execution_count": 39,
   "id": "af441832",
   "metadata": {},
   "outputs": [
    {
     "name": "stdout",
     "output_type": "stream",
     "text": [
      "+------+-------+----+------+---+---+\n",
      "|emp_id|   name|dept|salary|age|sex|\n",
      "+------+-------+----+------+---+---+\n",
      "|     2|  sohag|tech| 20000| 25|  M|\n",
      "|     7|  soura|tech| 30000| 25|  M|\n",
      "|     5|  lohit|  hr| 40000| 26|  F|\n",
      "|     6|prakash|  hr| 50000| 26|  M|\n",
      "|     8|sourabh|tech| 60000| 24|  F|\n",
      "|    10|  biswa|sale| 50000| 27|  M|\n",
      "|     7|  soura|tech| 30000| 25|  M|\n",
      "|     6|prakash|  hr| 50000| 26|  M|\n",
      "+------+-------+----+------+---+---+\n",
      "\n"
     ]
    }
   ],
   "source": [
    "df.filter(df[\"salary\"] >=20000).show()"
   ]
  },
  {
   "cell_type": "markdown",
   "id": "8585fafb",
   "metadata": {},
   "source": [
    "#  Groupby & Aggregate Functions"
   ]
  },
  {
   "cell_type": "code",
   "execution_count": 47,
   "id": "ac50f6bb",
   "metadata": {
    "scrolled": true
   },
   "outputs": [
    {
     "name": "stdout",
     "output_type": "stream",
     "text": [
      "+----+-----------+-----------+--------+\n",
      "|dept|sum(emp_id)|sum(salary)|sum(age)|\n",
      "+----+-----------+-----------+--------+\n",
      "|  hr|         17|     140000|      78|\n",
      "|sale|         11|      60000|      52|\n",
      "|tech|         32|     160000|     151|\n",
      "+----+-----------+-----------+--------+\n",
      "\n"
     ]
    }
   ],
   "source": [
    "df.groupby(\"dept\")."
   ]
  },
  {
   "cell_type": "code",
   "execution_count": 50,
   "id": "fcacffe0",
   "metadata": {
    "scrolled": true
   },
   "outputs": [
    {
     "name": "stdout",
     "output_type": "stream",
     "text": [
      "+----+-----------+-----------+--------+\n",
      "|dept|max(emp_id)|max(salary)|max(age)|\n",
      "+----+-----------+-----------+--------+\n",
      "|  hr|          6|      50000|      26|\n",
      "|sale|         10|      50000|      27|\n",
      "|tech|          8|      60000|      26|\n",
      "+----+-----------+-----------+--------+\n",
      "\n"
     ]
    }
   ],
   "source": [
    "df.groupby(\"dept\").max().show()"
   ]
  },
  {
   "cell_type": "code",
   "execution_count": 52,
   "id": "622ad64e",
   "metadata": {
    "scrolled": true
   },
   "outputs": [
    {
     "name": "stdout",
     "output_type": "stream",
     "text": [
      "+----+-----+\n",
      "|dept|count|\n",
      "+----+-----+\n",
      "|  hr|    3|\n",
      "|sale|    2|\n",
      "|tech|    6|\n",
      "+----+-----+\n",
      "\n"
     ]
    }
   ],
   "source": [
    "df.groupby(\"dept\").count().show()"
   ]
  },
  {
   "cell_type": "code",
   "execution_count": 58,
   "id": "55949e9e",
   "metadata": {
    "scrolled": true
   },
   "outputs": [
    {
     "name": "stdout",
     "output_type": "stream",
     "text": [
      "+-----------+\n",
      "|sum(salary)|\n",
      "+-----------+\n",
      "|     360000|\n",
      "+-----------+\n",
      "\n"
     ]
    }
   ],
   "source": [
    "df.agg({\"salary\": \"sum\"}).show()"
   ]
  },
  {
   "cell_type": "code",
   "execution_count": 45,
   "id": "333c7cba",
   "metadata": {},
   "outputs": [
    {
     "name": "stdout",
     "output_type": "stream",
     "text": [
      "+------+-------+----+------+---+---+\n",
      "|emp_id|   name|dept|salary|age|sex|\n",
      "+------+-------+----+------+---+---+\n",
      "|     1|  argha|sale| 10000| 25|  M|\n",
      "|     2|  sohag|tech| 20000| 25|  M|\n",
      "|     7|  soura|tech| 30000| 25|  M|\n",
      "|     4| shivam|tech| 10000| 26|  F|\n",
      "|     5|  lohit|  hr| 40000| 26|  F|\n",
      "|     6|prakash|  hr| 50000| 26|  M|\n",
      "|     8|sourabh|tech| 60000| 24|  F|\n",
      "|    10|  biswa|sale| 50000| 27|  M|\n",
      "|     7|  soura|tech| 30000| 25|  M|\n",
      "|     6|prakash|  hr| 50000| 26|  M|\n",
      "|     4| shivam|tech| 10000| 26|  F|\n",
      "+------+-------+----+------+---+---+\n",
      "\n"
     ]
    }
   ],
   "source": [
    "df.show()"
   ]
  },
  {
   "cell_type": "code",
   "execution_count": 64,
   "id": "b6d1d7b2",
   "metadata": {
    "scrolled": true
   },
   "outputs": [
    {
     "name": "stdout",
     "output_type": "stream",
     "text": [
      "+----+-----------+-----------+--------+\n",
      "|dept|max(emp_id)|max(salary)|max(age)|\n",
      "+----+-----------+-----------+--------+\n",
      "|  hr|          6|      50000|      26|\n",
      "|sale|         10|      50000|      27|\n",
      "|tech|          8|      60000|      26|\n",
      "+----+-----------+-----------+--------+\n",
      "\n"
     ]
    }
   ],
   "source": [
    "df.groupby(\"dept\").max().show()"
   ]
  },
  {
   "cell_type": "markdown",
   "id": "36ad3aff",
   "metadata": {},
   "source": [
    "# Drop Duplicates"
   ]
  },
  {
   "cell_type": "code",
   "execution_count": 66,
   "id": "6880f44e",
   "metadata": {},
   "outputs": [
    {
     "name": "stdout",
     "output_type": "stream",
     "text": [
      "+------+-------+----+------+---+---+\n",
      "|emp_id|   name|dept|salary|age|sex|\n",
      "+------+-------+----+------+---+---+\n",
      "|     1|  argha|sale| 10000| 25|  M|\n",
      "|    10|  biswa|sale| 50000| 27|  M|\n",
      "|     5|  lohit|  hr| 40000| 26|  F|\n",
      "|     6|prakash|  hr| 50000| 26|  M|\n",
      "|     4| shivam|tech| 10000| 26|  F|\n",
      "|     2|  sohag|tech| 20000| 25|  M|\n",
      "|     7|  soura|tech| 30000| 25|  M|\n",
      "|     8|sourabh|tech| 60000| 24|  F|\n",
      "+------+-------+----+------+---+---+\n",
      "\n"
     ]
    }
   ],
   "source": [
    "df.drop_duplicates(subset=[\"name\", \"dept\"]).show()"
   ]
  },
  {
   "cell_type": "code",
   "execution_count": 68,
   "id": "dc2a079e",
   "metadata": {},
   "outputs": [
    {
     "name": "stdout",
     "output_type": "stream",
     "text": [
      "+------+-------+----+------+---+---+\n",
      "|emp_id|   name|dept|salary|age|sex|\n",
      "+------+-------+----+------+---+---+\n",
      "|     7|  soura|tech| 30000| 25|  M|\n",
      "|     2|  sohag|tech| 20000| 25|  M|\n",
      "|     1|  argha|sale| 10000| 25|  M|\n",
      "|    10|  biswa|sale| 50000| 27|  M|\n",
      "|     5|  lohit|  hr| 40000| 26|  F|\n",
      "|     4| shivam|tech| 10000| 26|  F|\n",
      "|     8|sourabh|tech| 60000| 24|  F|\n",
      "|     6|prakash|  hr| 50000| 26|  M|\n",
      "+------+-------+----+------+---+---+\n",
      "\n"
     ]
    }
   ],
   "source": [
    "df.distinct().show()"
   ]
  },
  {
   "cell_type": "code",
   "execution_count": 71,
   "id": "b927b815",
   "metadata": {},
   "outputs": [
    {
     "data": {
      "text/plain": [
       "11"
      ]
     },
     "execution_count": 71,
     "metadata": {},
     "output_type": "execute_result"
    }
   ],
   "source": [
    "df.count()"
   ]
  },
  {
   "cell_type": "code",
   "execution_count": null,
   "id": "4a5fe074",
   "metadata": {},
   "outputs": [],
   "source": []
  }
 ],
 "metadata": {
  "kernelspec": {
   "display_name": "Python 3 (ipykernel)",
   "language": "python",
   "name": "python3"
  },
  "language_info": {
   "codemirror_mode": {
    "name": "ipython",
    "version": 3
   },
   "file_extension": ".py",
   "mimetype": "text/x-python",
   "name": "python",
   "nbconvert_exporter": "python",
   "pygments_lexer": "ipython3",
   "version": "3.9.13"
  }
 },
 "nbformat": 4,
 "nbformat_minor": 5
}
