{
 "cells": [
  {
   "cell_type": "markdown",
   "id": "ecb9a512",
   "metadata": {},
   "source": [
    "## Handling Missing Values"
   ]
  },
  {
   "cell_type": "code",
   "execution_count": 1,
   "id": "d48c5752",
   "metadata": {},
   "outputs": [],
   "source": [
    "from pyspark.sql import SparkSession\n"
   ]
  },
  {
   "cell_type": "code",
   "execution_count": 2,
   "id": "fe807235",
   "metadata": {},
   "outputs": [
    {
     "data": {
      "text/html": [
       "\n",
       "            <div>\n",
       "                <p><b>SparkSession - in-memory</b></p>\n",
       "                \n",
       "        <div>\n",
       "            <p><b>SparkContext</b></p>\n",
       "\n",
       "            <p><a href=\"http://192.168.0.102:4040\">Spark UI</a></p>\n",
       "\n",
       "            <dl>\n",
       "              <dt>Version</dt>\n",
       "                <dd><code>v3.3.2</code></dd>\n",
       "              <dt>Master</dt>\n",
       "                <dd><code>local[*]</code></dd>\n",
       "              <dt>AppName</dt>\n",
       "                <dd><code>Practice</code></dd>\n",
       "            </dl>\n",
       "        </div>\n",
       "        \n",
       "            </div>\n",
       "        "
      ],
      "text/plain": [
       "<pyspark.sql.session.SparkSession at 0x23b459bfaf0>"
      ]
     },
     "execution_count": 2,
     "metadata": {},
     "output_type": "execute_result"
    }
   ],
   "source": [
    "spark = SparkSession.builder.appName(\"Practice\").getOrCreate()\n",
    "spark"
   ]
  },
  {
   "cell_type": "code",
   "execution_count": 39,
   "id": "7b69cbd3",
   "metadata": {
    "scrolled": true
   },
   "outputs": [
    {
     "name": "stdout",
     "output_type": "stream",
     "text": [
      "+---------+----+-----------+------+\n",
      "|     Name| Age|Experience |Salary|\n",
      "+---------+----+-----------+------+\n",
      "|    sohag|  25|          2| 25000|\n",
      "|    argha|  26|          1| 30000|\n",
      "|    majhi|  25|          3| 35000|\n",
      "|   pratik|  23|       null| 27000|\n",
      "|souradeep|null|       null| 28000|\n",
      "|     null|  28|          5| 26000|\n",
      "|     null|  27|          2|  null|\n",
      "+---------+----+-----------+------+\n",
      "\n"
     ]
    }
   ],
   "source": [
    "df_pysp = spark.read.csv(r\"C:\\Users\\bhupe\\OneDrive\\Desktop\\Portfolio Project\\Python Project\\Emp_pyspark.csv\", header= True ,inferSchema =True)\n",
    "df_pysp.show()"
   ]
  },
  {
   "cell_type": "markdown",
   "id": "7b21f66c",
   "metadata": {},
   "source": [
    "### Drop Missing Values"
   ]
  },
  {
   "cell_type": "code",
   "execution_count": 4,
   "id": "b29d0017",
   "metadata": {},
   "outputs": [
    {
     "name": "stdout",
     "output_type": "stream",
     "text": [
      "+-----+----+-----------+------+\n",
      "| Name| Age|Experience |Salary|\n",
      "+-----+----+-----------+------+\n",
      "|sohag|  25|          2| 25000|\n",
      "|argha|  26|          1| 30000|\n",
      "|majhi|  25|          3| 35000|\n",
      "+-----+----+-----------+------+\n",
      "\n"
     ]
    }
   ],
   "source": [
    "df_pysp.na.drop().show()"
   ]
  },
  {
   "cell_type": "code",
   "execution_count": 5,
   "id": "544dde57",
   "metadata": {},
   "outputs": [
    {
     "data": {
      "text/plain": [
       "DataFrame[Name: string,  Age: int, Experience : int, Salary: int]"
      ]
     },
     "execution_count": 5,
     "metadata": {},
     "output_type": "execute_result"
    }
   ],
   "source": [
    "df_pysp"
   ]
  },
  {
   "cell_type": "code",
   "execution_count": 7,
   "id": "98854c64",
   "metadata": {},
   "outputs": [
    {
     "name": "stdout",
     "output_type": "stream",
     "text": [
      "+---------+----+-----------+------+\n",
      "|     Name| Age|Experience |Salary|\n",
      "+---------+----+-----------+------+\n",
      "|    sohag|  25|          2| 25000|\n",
      "|    argha|  26|          1| 30000|\n",
      "|    majhi|  25|          3| 35000|\n",
      "|   pratik|  23|       null| 27000|\n",
      "|souradeep|null|       null| 28000|\n",
      "|     null|  28|          5| 26000|\n",
      "|     null|  27|          2|  null|\n",
      "+---------+----+-----------+------+\n",
      "\n"
     ]
    }
   ],
   "source": [
    "df_pysp.na.drop(how = \"all\").show()"
   ]
  },
  {
   "cell_type": "code",
   "execution_count": 17,
   "id": "57cf2271",
   "metadata": {
    "scrolled": true
   },
   "outputs": [
    {
     "name": "stdout",
     "output_type": "stream",
     "text": [
      "+---------+----+-----------+------+\n",
      "|     Name| Age|Experience |Salary|\n",
      "+---------+----+-----------+------+\n",
      "|    sohag|  25|          2| 25000|\n",
      "|    argha|  26|          1| 30000|\n",
      "|    majhi|  25|          3| 35000|\n",
      "|   pratik|  23|       null| 27000|\n",
      "|souradeep|null|       null| 28000|\n",
      "|     null|  28|          5| 26000|\n",
      "+---------+----+-----------+------+\n",
      "\n"
     ]
    }
   ],
   "source": [
    "df_pysp.na.drop(how = \"any\", subset= \"Salary\").show()"
   ]
  },
  {
   "cell_type": "code",
   "execution_count": 21,
   "id": "697a7f67",
   "metadata": {},
   "outputs": [
    {
     "name": "stdout",
     "output_type": "stream",
     "text": [
      "+---------+----+-----------+------+\n",
      "|     Name| Age|Experience |Salary|\n",
      "+---------+----+-----------+------+\n",
      "|    sohag|  25|          2| 25000|\n",
      "|    argha|  26|          1| 30000|\n",
      "|    majhi|  25|          3| 35000|\n",
      "|   pratik|  23|       null| 27000|\n",
      "|souradeep|null|       null| 28000|\n",
      "|     null|  28|          5| 26000|\n",
      "|     null|  27|          2|  null|\n",
      "+---------+----+-----------+------+\n",
      "\n"
     ]
    }
   ],
   "source": [
    "df_pysp.show()"
   ]
  },
  {
   "cell_type": "code",
   "execution_count": 30,
   "id": "3217ac38",
   "metadata": {
    "scrolled": true
   },
   "outputs": [
    {
     "name": "stdout",
     "output_type": "stream",
     "text": [
      "+---------+-------+-----------+------+\n",
      "|     Name|    Age|Experience |Salary|\n",
      "+---------+-------+-----------+------+\n",
      "|    sohag|     25|          2| 25000|\n",
      "|    argha|     26|          1| 30000|\n",
      "|    majhi|     25|          3| 35000|\n",
      "|   pratik|     23|       null| 27000|\n",
      "|souradeep|unknown|       null| 28000|\n",
      "|  unknown|     28|          5| 26000|\n",
      "|  unknown|     27|          2|  null|\n",
      "+---------+-------+-----------+------+\n",
      "\n"
     ]
    }
   ],
   "source": [
    "df_pysp.na.fill(\"unknown\",[\"Name\",\" Age\"]).show()"
   ]
  },
  {
   "cell_type": "code",
   "execution_count": 26,
   "id": "c46d0a83",
   "metadata": {
    "scrolled": true
   },
   "outputs": [
    {
     "name": "stdout",
     "output_type": "stream",
     "text": [
      "root\n",
      " |-- Name: string (nullable = true)\n",
      " |--  Age: string (nullable = true)\n",
      " |-- Experience : string (nullable = true)\n",
      " |-- Salary: string (nullable = true)\n",
      "\n"
     ]
    }
   ],
   "source": [
    "df_pysp.printSchema()"
   ]
  },
  {
   "cell_type": "code",
   "execution_count": 49,
   "id": "74fd9f56",
   "metadata": {},
   "outputs": [],
   "source": [
    "## Impute missing values by mean, median \n",
    "from pyspark.ml.feature import Imputer"
   ]
  },
  {
   "cell_type": "code",
   "execution_count": 53,
   "id": "5f39dcf8",
   "metadata": {},
   "outputs": [],
   "source": [
    "imputer = Imputer(\n",
    "inputCols = [\" Age\",\"Experience \",\"Salary\"],\n",
    "outputCols = [\"{}_imputed\". format(x) for x in [\" Age\",\"Experience \",\"Salary\"]]    \n",
    ").setStrategy(\"mean\")"
   ]
  },
  {
   "cell_type": "code",
   "execution_count": 54,
   "id": "ea83161b",
   "metadata": {
    "scrolled": false
   },
   "outputs": [
    {
     "name": "stdout",
     "output_type": "stream",
     "text": [
      "+---------+----+-----------+------+------------+-------------------+--------------+\n",
      "|     Name| Age|Experience |Salary| Age_imputed|Experience _imputed|Salary_imputed|\n",
      "+---------+----+-----------+------+------------+-------------------+--------------+\n",
      "|    sohag|  25|          2| 25000|          25|                  2|         25000|\n",
      "|    argha|  26|          1| 30000|          26|                  1|         30000|\n",
      "|    majhi|  25|          3| 35000|          25|                  3|         35000|\n",
      "|   pratik|  23|       null| 27000|          23|                  2|         27000|\n",
      "|souradeep|null|       null| 28000|          25|                  2|         28000|\n",
      "|     null|  28|          5| 26000|          28|                  5|         26000|\n",
      "|     null|  27|          2|  null|          27|                  2|         28500|\n",
      "+---------+----+-----------+------+------------+-------------------+--------------+\n",
      "\n"
     ]
    }
   ],
   "source": [
    "## Add imputation columns to df\n",
    "imputer.fit(df_pysp).transform(df_pysp).show()"
   ]
  },
  {
   "cell_type": "code",
   "execution_count": 48,
   "id": "7e12b67e",
   "metadata": {},
   "outputs": [
    {
     "data": {
      "text/plain": [
       "['Name', ' Age', 'Experience ', 'Salary']"
      ]
     },
     "execution_count": 48,
     "metadata": {},
     "output_type": "execute_result"
    }
   ],
   "source": [
    "df_pysp.columns"
   ]
  },
  {
   "cell_type": "code",
   "execution_count": null,
   "id": "da3d97aa",
   "metadata": {},
   "outputs": [],
   "source": []
  }
 ],
 "metadata": {
  "kernelspec": {
   "display_name": "Python 3 (ipykernel)",
   "language": "python",
   "name": "python3"
  },
  "language_info": {
   "codemirror_mode": {
    "name": "ipython",
    "version": 3
   },
   "file_extension": ".py",
   "mimetype": "text/x-python",
   "name": "python",
   "nbconvert_exporter": "python",
   "pygments_lexer": "ipython3",
   "version": "3.9.13"
  }
 },
 "nbformat": 4,
 "nbformat_minor": 5
}
