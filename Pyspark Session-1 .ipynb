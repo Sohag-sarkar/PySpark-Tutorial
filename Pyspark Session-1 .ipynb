{
 "cells": [
  {
   "cell_type": "markdown",
   "id": "5d0c5e6e",
   "metadata": {},
   "source": [
    "We will cover:\n",
    "1. Pyspark Dataframe\n",
    "2. Reading the dataset\n",
    "3. Checking data type of Column(Schema)\n",
    "4. Selecting column and Indexing\n",
    "5. Check Describe option similar to Panda\n",
    "6. Dropping Column\n",
    "7. Adding column\n",
    "    "
   ]
  },
  {
   "cell_type": "code",
   "execution_count": 1,
   "id": "45b12946",
   "metadata": {},
   "outputs": [],
   "source": [
    "from pyspark.sql import SparkSession"
   ]
  },
  {
   "cell_type": "code",
   "execution_count": 2,
   "id": "be001247",
   "metadata": {},
   "outputs": [
    {
     "data": {
      "text/html": [
       "\n",
       "            <div>\n",
       "                <p><b>SparkSession - in-memory</b></p>\n",
       "                \n",
       "        <div>\n",
       "            <p><b>SparkContext</b></p>\n",
       "\n",
       "            <p><a href=\"http://192.168.0.102:4041\">Spark UI</a></p>\n",
       "\n",
       "            <dl>\n",
       "              <dt>Version</dt>\n",
       "                <dd><code>v3.3.2</code></dd>\n",
       "              <dt>Master</dt>\n",
       "                <dd><code>local[*]</code></dd>\n",
       "              <dt>AppName</dt>\n",
       "                <dd><code>Dataframe_Practice</code></dd>\n",
       "            </dl>\n",
       "        </div>\n",
       "        \n",
       "            </div>\n",
       "        "
      ],
      "text/plain": [
       "<pyspark.sql.session.SparkSession at 0x1b5668edbe0>"
      ]
     },
     "execution_count": 2,
     "metadata": {},
     "output_type": "execute_result"
    }
   ],
   "source": [
    "spark = SparkSession.builder.appName(\"Dataframe_Practice\").getOrCreate()\n",
    "spark"
   ]
  },
  {
   "cell_type": "code",
   "execution_count": 3,
   "id": "57604284",
   "metadata": {
    "scrolled": true
   },
   "outputs": [
    {
     "name": "stdout",
     "output_type": "stream",
     "text": [
      "+------+-------+----+-------+---+---+\n",
      "|emp_id|   name|dept|salary |age|sex|\n",
      "+------+-------+----+-------+---+---+\n",
      "|     1|  argha|sale|  10000| 25|  M|\n",
      "|     2|  sohag|tech|  20000| 25|  M|\n",
      "|     7|  soura|tech|  30000| 25|  M|\n",
      "|     4| shivam|tech|  10000| 26|  F|\n",
      "|     5|  lohit|  hr|  40000| 26|  F|\n",
      "|     6|prakash|  hr|  50000| 26|  M|\n",
      "|     8|sourabh|tech|  60000| 24|  F|\n",
      "|    10|  biswa|sale|  50000| 27|  M|\n",
      "|     7|  soura|tech|  30000| 25|  M|\n",
      "|     6|prakash|  hr|  50000| 26|  M|\n",
      "|     4| shivam|tech|  10000| 26|  F|\n",
      "+------+-------+----+-------+---+---+\n",
      "\n"
     ]
    }
   ],
   "source": [
    "df_pyspark = spark.read.csv(r\"C:\\Users\\bhupe\\OneDrive\\Desktop\\Portfolio Project\\SQL Project\\Interview Prep\\emp1.csv\", header = True, inferSchema= True)\n",
    "df_pyspark.show()"
   ]
  },
  {
   "cell_type": "code",
   "execution_count": 4,
   "id": "6e139504",
   "metadata": {},
   "outputs": [
    {
     "name": "stdout",
     "output_type": "stream",
     "text": [
      "root\n",
      " |-- emp_id: integer (nullable = true)\n",
      " |-- name: string (nullable = true)\n",
      " |-- dept: string (nullable = true)\n",
      " |-- salary : integer (nullable = true)\n",
      " |-- age: integer (nullable = true)\n",
      " |-- sex: string (nullable = true)\n",
      "\n"
     ]
    }
   ],
   "source": [
    "df_pyspark.printSchema()"
   ]
  },
  {
   "cell_type": "code",
   "execution_count": 5,
   "id": "e061d7b0",
   "metadata": {
    "scrolled": true
   },
   "outputs": [
    {
     "name": "stdout",
     "output_type": "stream",
     "text": [
      "+------+-------+----+-------+---+---+\n",
      "|emp_id|   name|dept|salary |age|sex|\n",
      "+------+-------+----+-------+---+---+\n",
      "|     1|  argha|sale|  10000| 25|  M|\n",
      "|     2|  sohag|tech|  20000| 25|  M|\n",
      "|     7|  soura|tech|  30000| 25|  M|\n",
      "|     4| shivam|tech|  10000| 26|  F|\n",
      "|     5|  lohit|  hr|  40000| 26|  F|\n",
      "|     6|prakash|  hr|  50000| 26|  M|\n",
      "|     8|sourabh|tech|  60000| 24|  F|\n",
      "|    10|  biswa|sale|  50000| 27|  M|\n",
      "|     7|  soura|tech|  30000| 25|  M|\n",
      "|     6|prakash|  hr|  50000| 26|  M|\n",
      "|     4| shivam|tech|  10000| 26|  F|\n",
      "+------+-------+----+-------+---+---+\n",
      "\n"
     ]
    }
   ],
   "source": [
    "df_pyspark = spark.read.option(\"header\",\"true\").csv(r\"C:\\Users\\bhupe\\OneDrive\\Desktop\\Portfolio Project\\SQL Project\\Interview Prep\\emp1.csv\", inferSchema = True)\n",
    "df_pyspark.show()"
   ]
  },
  {
   "cell_type": "code",
   "execution_count": 6,
   "id": "b396ac02",
   "metadata": {},
   "outputs": [
    {
     "name": "stdout",
     "output_type": "stream",
     "text": [
      "root\n",
      " |-- emp_id: integer (nullable = true)\n",
      " |-- name: string (nullable = true)\n",
      " |-- dept: string (nullable = true)\n",
      " |-- salary : integer (nullable = true)\n",
      " |-- age: integer (nullable = true)\n",
      " |-- sex: string (nullable = true)\n",
      "\n"
     ]
    }
   ],
   "source": [
    "df_pyspark.printSchema()"
   ]
  },
  {
   "cell_type": "code",
   "execution_count": 7,
   "id": "14e17ba6",
   "metadata": {},
   "outputs": [
    {
     "data": {
      "text/plain": [
       "pyspark.sql.dataframe.DataFrame"
      ]
     },
     "execution_count": 7,
     "metadata": {},
     "output_type": "execute_result"
    }
   ],
   "source": [
    "type(df_pyspark)"
   ]
  },
  {
   "cell_type": "code",
   "execution_count": 8,
   "id": "6d402bdf",
   "metadata": {},
   "outputs": [
    {
     "data": {
      "text/plain": [
       "['emp_id', 'name', 'dept', 'salary ', 'age', 'sex']"
      ]
     },
     "execution_count": 8,
     "metadata": {},
     "output_type": "execute_result"
    }
   ],
   "source": [
    "df_pyspark.columns"
   ]
  },
  {
   "cell_type": "code",
   "execution_count": 9,
   "id": "691a0431",
   "metadata": {},
   "outputs": [
    {
     "data": {
      "text/plain": [
       "[Row(emp_id=1, name='argha', dept='sale', salary =10000, age=25, sex='M'),\n",
       " Row(emp_id=2, name='sohag', dept='tech', salary =20000, age=25, sex='M'),\n",
       " Row(emp_id=7, name='soura', dept='tech', salary =30000, age=25, sex='M')]"
      ]
     },
     "execution_count": 9,
     "metadata": {},
     "output_type": "execute_result"
    }
   ],
   "source": [
    "df_pyspark.head(3)"
   ]
  },
  {
   "cell_type": "code",
   "execution_count": 10,
   "id": "991d81e1",
   "metadata": {
    "scrolled": true
   },
   "outputs": [
    {
     "name": "stdout",
     "output_type": "stream",
     "text": [
      "+-------+\n",
      "|   name|\n",
      "+-------+\n",
      "|  argha|\n",
      "|  sohag|\n",
      "|  soura|\n",
      "| shivam|\n",
      "|  lohit|\n",
      "|prakash|\n",
      "|sourabh|\n",
      "|  biswa|\n",
      "|  soura|\n",
      "|prakash|\n",
      "| shivam|\n",
      "+-------+\n",
      "\n"
     ]
    }
   ],
   "source": [
    "df_pyspark.select(\"name\").show()"
   ]
  },
  {
   "cell_type": "code",
   "execution_count": 11,
   "id": "0b77e48f",
   "metadata": {},
   "outputs": [
    {
     "data": {
      "text/plain": [
       "DataFrame[name: string, age: int]"
      ]
     },
     "execution_count": 11,
     "metadata": {},
     "output_type": "execute_result"
    }
   ],
   "source": [
    "df_pyspark.select([\"name\",\"age\"])"
   ]
  },
  {
   "cell_type": "code",
   "execution_count": 12,
   "id": "8fa4a49c",
   "metadata": {},
   "outputs": [
    {
     "data": {
      "text/plain": [
       "[('emp_id', 'int'),\n",
       " ('name', 'string'),\n",
       " ('dept', 'string'),\n",
       " ('salary ', 'int'),\n",
       " ('age', 'int'),\n",
       " ('sex', 'string')]"
      ]
     },
     "execution_count": 12,
     "metadata": {},
     "output_type": "execute_result"
    }
   ],
   "source": [
    "df_pyspark.dtypes"
   ]
  },
  {
   "cell_type": "code",
   "execution_count": 13,
   "id": "3651cbd8",
   "metadata": {
    "scrolled": false
   },
   "outputs": [
    {
     "name": "stdout",
     "output_type": "stream",
     "text": [
      "+-------+-----------------+-------+----+------------------+------------------+----+\n",
      "|summary|           emp_id|   name|dept|           salary |               age| sex|\n",
      "+-------+-----------------+-------+----+------------------+------------------+----+\n",
      "|  count|               11|     11|  11|                11|                11|  11|\n",
      "|   mean|5.454545454545454|   null|null|32727.272727272728|25.545454545454547|null|\n",
      "| stddev|2.621588692515909|   null|null|18488.325554743507|0.8201995322647249|null|\n",
      "|    min|                1|  argha|  hr|             10000|                24|   F|\n",
      "|    max|               10|sourabh|tech|             60000|                27|   M|\n",
      "+-------+-----------------+-------+----+------------------+------------------+----+\n",
      "\n"
     ]
    }
   ],
   "source": [
    "df_pyspark.describe().show()"
   ]
  },
  {
   "cell_type": "code",
   "execution_count": 14,
   "id": "c52dbe85",
   "metadata": {
    "scrolled": true
   },
   "outputs": [
    {
     "data": {
      "text/plain": [
       "['emp_id', 'name', 'dept', 'salary ', 'age', 'sex']"
      ]
     },
     "execution_count": 14,
     "metadata": {},
     "output_type": "execute_result"
    }
   ],
   "source": [
    "df_pyspark.columns"
   ]
  },
  {
   "cell_type": "code",
   "execution_count": 15,
   "id": "e2fa09f1",
   "metadata": {
    "scrolled": true
   },
   "outputs": [
    {
     "name": "stdout",
     "output_type": "stream",
     "text": [
      "root\n",
      " |-- emp_id: integer (nullable = true)\n",
      " |-- name: string (nullable = true)\n",
      " |-- dept: string (nullable = true)\n",
      " |-- salary : integer (nullable = true)\n",
      " |-- age: integer (nullable = true)\n",
      " |-- sex: string (nullable = true)\n",
      "\n"
     ]
    }
   ],
   "source": [
    "df_pyspark.printSchema()"
   ]
  },
  {
   "cell_type": "code",
   "execution_count": 16,
   "id": "9c18b09a",
   "metadata": {
    "scrolled": false
   },
   "outputs": [],
   "source": [
    "### Adding Column\n",
    "df_pyspark = df_pyspark.withColumn(\"New Salary\", df_pyspark[\"salary \"] * 1.3)"
   ]
  },
  {
   "cell_type": "code",
   "execution_count": 17,
   "id": "6848606b",
   "metadata": {},
   "outputs": [
    {
     "name": "stdout",
     "output_type": "stream",
     "text": [
      "+------+-------+----+-------+---+---+----------+\n",
      "|emp_id|   name|dept|salary |age|sex|New Salary|\n",
      "+------+-------+----+-------+---+---+----------+\n",
      "|     1|  argha|sale|  10000| 25|  M|   13000.0|\n",
      "|     2|  sohag|tech|  20000| 25|  M|   26000.0|\n",
      "|     7|  soura|tech|  30000| 25|  M|   39000.0|\n",
      "|     4| shivam|tech|  10000| 26|  F|   13000.0|\n",
      "|     5|  lohit|  hr|  40000| 26|  F|   52000.0|\n",
      "|     6|prakash|  hr|  50000| 26|  M|   65000.0|\n",
      "|     8|sourabh|tech|  60000| 24|  F|   78000.0|\n",
      "|    10|  biswa|sale|  50000| 27|  M|   65000.0|\n",
      "|     7|  soura|tech|  30000| 25|  M|   39000.0|\n",
      "|     6|prakash|  hr|  50000| 26|  M|   65000.0|\n",
      "|     4| shivam|tech|  10000| 26|  F|   13000.0|\n",
      "+------+-------+----+-------+---+---+----------+\n",
      "\n"
     ]
    }
   ],
   "source": [
    "df_pyspark.show()"
   ]
  },
  {
   "cell_type": "code",
   "execution_count": 18,
   "id": "607c72e3",
   "metadata": {},
   "outputs": [
    {
     "name": "stdout",
     "output_type": "stream",
     "text": [
      "+------+-------+----+-------+---+---+\n",
      "|emp_id|   name|dept|salary |age|sex|\n",
      "+------+-------+----+-------+---+---+\n",
      "|     1|  argha|sale|  10000| 25|  M|\n",
      "|     2|  sohag|tech|  20000| 25|  M|\n",
      "|     7|  soura|tech|  30000| 25|  M|\n",
      "|     4| shivam|tech|  10000| 26|  F|\n",
      "|     5|  lohit|  hr|  40000| 26|  F|\n",
      "|     6|prakash|  hr|  50000| 26|  M|\n",
      "|     8|sourabh|tech|  60000| 24|  F|\n",
      "|    10|  biswa|sale|  50000| 27|  M|\n",
      "|     7|  soura|tech|  30000| 25|  M|\n",
      "|     6|prakash|  hr|  50000| 26|  M|\n",
      "|     4| shivam|tech|  10000| 26|  F|\n",
      "+------+-------+----+-------+---+---+\n",
      "\n"
     ]
    }
   ],
   "source": [
    "### drop columns\n",
    "df_pyspark = df_pyspark.drop(\"New Salary\")\n",
    "df_pyspark.show()"
   ]
  },
  {
   "cell_type": "code",
   "execution_count": 19,
   "id": "de75b29c",
   "metadata": {},
   "outputs": [
    {
     "name": "stdout",
     "output_type": "stream",
     "text": [
      "+------+--------+----+-------+---+---+\n",
      "|emp_id|New_Name|dept|salary |age|sex|\n",
      "+------+--------+----+-------+---+---+\n",
      "|     1|   argha|sale|  10000| 25|  M|\n",
      "|     2|   sohag|tech|  20000| 25|  M|\n",
      "|     7|   soura|tech|  30000| 25|  M|\n",
      "|     4|  shivam|tech|  10000| 26|  F|\n",
      "|     5|   lohit|  hr|  40000| 26|  F|\n",
      "|     6| prakash|  hr|  50000| 26|  M|\n",
      "|     8| sourabh|tech|  60000| 24|  F|\n",
      "|    10|   biswa|sale|  50000| 27|  M|\n",
      "|     7|   soura|tech|  30000| 25|  M|\n",
      "|     6| prakash|  hr|  50000| 26|  M|\n",
      "|     4|  shivam|tech|  10000| 26|  F|\n",
      "+------+--------+----+-------+---+---+\n",
      "\n"
     ]
    }
   ],
   "source": [
    "### rename column\n",
    "df_pyspark = df_pyspark.withColumnRenamed(\"name\", \"New_Name\")\n",
    "df_pyspark.show()"
   ]
  },
  {
   "cell_type": "code",
   "execution_count": 21,
   "id": "cce9194c",
   "metadata": {},
   "outputs": [
    {
     "name": "stdout",
     "output_type": "stream",
     "text": [
      "+------+--------+----+-------+---+---+\n",
      "|emp_id|New_Name|dept|salary |age|sex|\n",
      "+------+--------+----+-------+---+---+\n",
      "|     1|   argha|sale|  10000| 25|  M|\n",
      "|     2|   sohag|tech|  20000| 25|  M|\n",
      "|     7|   soura|tech|  30000| 25|  M|\n",
      "|     4|  shivam|tech|  10000| 26|  F|\n",
      "|     5|   lohit|  hr|  40000| 26|  F|\n",
      "|     6| prakash|  hr|  50000| 26|  M|\n",
      "|     8| sourabh|tech|  60000| 24|  F|\n",
      "|    10|   biswa|sale|  50000| 27|  M|\n",
      "|     7|   soura|tech|  30000| 25|  M|\n",
      "|     6| prakash|  hr|  50000| 26|  M|\n",
      "|     4|  shivam|tech|  10000| 26|  F|\n",
      "+------+--------+----+-------+---+---+\n",
      "\n"
     ]
    }
   ],
   "source": [
    "df_pyspark.show()"
   ]
  },
  {
   "cell_type": "code",
   "execution_count": null,
   "id": "ab63c70f",
   "metadata": {},
   "outputs": [],
   "source": []
  }
 ],
 "metadata": {
  "kernelspec": {
   "display_name": "Python 3 (ipykernel)",
   "language": "python",
   "name": "python3"
  },
  "language_info": {
   "codemirror_mode": {
    "name": "ipython",
    "version": 3
   },
   "file_extension": ".py",
   "mimetype": "text/x-python",
   "name": "python",
   "nbconvert_exporter": "python",
   "pygments_lexer": "ipython3",
   "version": "3.9.13"
  }
 },
 "nbformat": 4,
 "nbformat_minor": 5
}
