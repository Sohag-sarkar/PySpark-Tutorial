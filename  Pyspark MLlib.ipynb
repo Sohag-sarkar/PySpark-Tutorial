{
 "cells": [
  {
   "cell_type": "code",
   "execution_count": 1,
   "id": "3180b808",
   "metadata": {
    "scrolled": true
   },
   "outputs": [],
   "source": [
    "from pyspark.sql import SparkSession\n",
    "spark = SparkSession.builder.appName(\"MLlib\").getOrCreate()"
   ]
  },
  {
   "cell_type": "code",
   "execution_count": 2,
   "id": "4d2b2a78",
   "metadata": {
    "scrolled": true
   },
   "outputs": [
    {
     "name": "stdout",
     "output_type": "stream",
     "text": [
      "+------+-------+----+-------+---+---+----------+\n",
      "|emp_id|   name|dept|salary |age|sex|experience|\n",
      "+------+-------+----+-------+---+---+----------+\n",
      "|     1|  argha|sale|  10000| 25|  M|         2|\n",
      "|     2|  sohag|tech|  20000| 25|  M|         3|\n",
      "|     7|  soura|tech|  30000| 25|  M|         2|\n",
      "|     4| shivam|tech|  10000| 26|  F|        10|\n",
      "|     5|  lohit|  hr|  40000| 26|  F|         5|\n",
      "|     6|prakash|  hr|  50000| 26|  M|         6|\n",
      "|     8|sourabh|tech|  60000| 24|  F|         5|\n",
      "|    10|  biswa|sale|  50000| 27|  M|         2|\n",
      "|     7|  soura|tech|  30000| 25|  M|         3|\n",
      "|     6|prakash|  hr|  50000| 26|  M|         2|\n",
      "|     4| shivam|tech|  10000| 26|  F|         1|\n",
      "+------+-------+----+-------+---+---+----------+\n",
      "\n"
     ]
    }
   ],
   "source": [
    "training = spark.read.csv(r\"C:\\Users\\bhupe\\OneDrive\\Desktop\\Portfolio Project\\SQL Project\\Interview Prep\\emp2.csv\", header = True, inferSchema= True)\n",
    "training.show()"
   ]
  },
  {
   "cell_type": "code",
   "execution_count": 3,
   "id": "1b0a9b20",
   "metadata": {
    "scrolled": true
   },
   "outputs": [
    {
     "name": "stdout",
     "output_type": "stream",
     "text": [
      "root\n",
      " |-- emp_id: integer (nullable = true)\n",
      " |-- name: string (nullable = true)\n",
      " |-- dept: string (nullable = true)\n",
      " |-- salary : integer (nullable = true)\n",
      " |-- age: integer (nullable = true)\n",
      " |-- sex: string (nullable = true)\n",
      " |-- experience: integer (nullable = true)\n",
      "\n"
     ]
    }
   ],
   "source": [
    "training.printSchema()"
   ]
  },
  {
   "cell_type": "code",
   "execution_count": 5,
   "id": "b7609405",
   "metadata": {},
   "outputs": [],
   "source": [
    "training = training.withColumnRenamed(\"salary \", \"salary\")"
   ]
  },
  {
   "cell_type": "code",
   "execution_count": 6,
   "id": "f76f7785",
   "metadata": {
    "scrolled": true
   },
   "outputs": [
    {
     "data": {
      "text/plain": [
       "['emp_id', 'name', 'dept', 'salary', 'age', 'sex', 'experience']"
      ]
     },
     "execution_count": 6,
     "metadata": {},
     "output_type": "execute_result"
    }
   ],
   "source": [
    "training.columns"
   ]
  },
  {
   "cell_type": "code",
   "execution_count": 7,
   "id": "a102a92c",
   "metadata": {},
   "outputs": [],
   "source": [
    "## create Independant feature by using VectorAssembler\n",
    "from pyspark.ml.feature import VectorAssembler"
   ]
  },
  {
   "cell_type": "code",
   "execution_count": 8,
   "id": "487b9453",
   "metadata": {},
   "outputs": [],
   "source": [
    "assemble_feature = VectorAssembler(\n",
    "    inputCols = [\"experience\",\"age\"],outputCol = \"Independant feature\"\n",
    ")"
   ]
  },
  {
   "cell_type": "code",
   "execution_count": 9,
   "id": "9a2cfcd2",
   "metadata": {},
   "outputs": [],
   "source": [
    "output = assemble_feature.transform(training)"
   ]
  },
  {
   "cell_type": "code",
   "execution_count": 10,
   "id": "048d5e78",
   "metadata": {},
   "outputs": [
    {
     "name": "stdout",
     "output_type": "stream",
     "text": [
      "+------+-------+----+------+---+---+----------+-------------------+\n",
      "|emp_id|   name|dept|salary|age|sex|experience|Independant feature|\n",
      "+------+-------+----+------+---+---+----------+-------------------+\n",
      "|     1|  argha|sale| 10000| 25|  M|         2|         [2.0,25.0]|\n",
      "|     2|  sohag|tech| 20000| 25|  M|         3|         [3.0,25.0]|\n",
      "|     7|  soura|tech| 30000| 25|  M|         2|         [2.0,25.0]|\n",
      "|     4| shivam|tech| 10000| 26|  F|        10|        [10.0,26.0]|\n",
      "|     5|  lohit|  hr| 40000| 26|  F|         5|         [5.0,26.0]|\n",
      "|     6|prakash|  hr| 50000| 26|  M|         6|         [6.0,26.0]|\n",
      "|     8|sourabh|tech| 60000| 24|  F|         5|         [5.0,24.0]|\n",
      "|    10|  biswa|sale| 50000| 27|  M|         2|         [2.0,27.0]|\n",
      "|     7|  soura|tech| 30000| 25|  M|         3|         [3.0,25.0]|\n",
      "|     6|prakash|  hr| 50000| 26|  M|         2|         [2.0,26.0]|\n",
      "|     4| shivam|tech| 10000| 26|  F|         1|         [1.0,26.0]|\n",
      "+------+-------+----+------+---+---+----------+-------------------+\n",
      "\n"
     ]
    }
   ],
   "source": [
    "output.show()"
   ]
  },
  {
   "cell_type": "code",
   "execution_count": 12,
   "id": "c3a41131",
   "metadata": {},
   "outputs": [
    {
     "name": "stdout",
     "output_type": "stream",
     "text": [
      "+-------------------+------+\n",
      "|Independant feature|salary|\n",
      "+-------------------+------+\n",
      "|         [2.0,25.0]| 10000|\n",
      "|         [3.0,25.0]| 20000|\n",
      "|         [2.0,25.0]| 30000|\n",
      "|        [10.0,26.0]| 10000|\n",
      "|         [5.0,26.0]| 40000|\n",
      "|         [6.0,26.0]| 50000|\n",
      "|         [5.0,24.0]| 60000|\n",
      "|         [2.0,27.0]| 50000|\n",
      "|         [3.0,25.0]| 30000|\n",
      "|         [2.0,26.0]| 50000|\n",
      "|         [1.0,26.0]| 10000|\n",
      "+-------------------+------+\n",
      "\n"
     ]
    }
   ],
   "source": [
    "## Take 2 necessary columns\n",
    "finalized_data = output.select([\"Independant feature\",\"salary\"])\n",
    "finalized_data.show()"
   ]
  },
  {
   "cell_type": "code",
   "execution_count": 14,
   "id": "a941e6ec",
   "metadata": {},
   "outputs": [],
   "source": [
    "## Use Linear Regression for predict salary base on Inependant feature\n",
    "from pyspark.ml.regression import LinearRegression\n"
   ]
  },
  {
   "cell_type": "code",
   "execution_count": 56,
   "id": "ce10c6d9",
   "metadata": {},
   "outputs": [],
   "source": [
    "train_data, test_data = finalized_data.randomSplit([0.75, 0.25])\n",
    "regression = LinearRegression(featuresCol = \"Independant feature\", labelCol = \"salary\")\n",
    "regressor = regression.fit(train_data)"
   ]
  },
  {
   "cell_type": "code",
   "execution_count": 57,
   "id": "d5449d07",
   "metadata": {
    "scrolled": true
   },
   "outputs": [
    {
     "name": "stdout",
     "output_type": "stream",
     "text": [
      "+-------------------+------+\n",
      "|Independant feature|salary|\n",
      "+-------------------+------+\n",
      "|         [2.0,25.0]| 10000|\n",
      "|         [2.0,25.0]| 30000|\n",
      "|         [2.0,26.0]| 50000|\n",
      "|         [2.0,27.0]| 50000|\n",
      "|         [5.0,26.0]| 40000|\n",
      "|         [6.0,26.0]| 50000|\n",
      "+-------------------+------+\n",
      "\n"
     ]
    }
   ],
   "source": [
    "train_data.show()"
   ]
  },
  {
   "cell_type": "code",
   "execution_count": 48,
   "id": "466fd350",
   "metadata": {
    "scrolled": true
   },
   "outputs": [
    {
     "data": {
      "text/plain": [
       "DenseVector([5813.9535, -1162.7907])"
      ]
     },
     "execution_count": 48,
     "metadata": {},
     "output_type": "execute_result"
    }
   ],
   "source": [
    "regressor.coefficients"
   ]
  },
  {
   "cell_type": "code",
   "execution_count": 49,
   "id": "8bf3d3ba",
   "metadata": {},
   "outputs": [
    {
     "data": {
      "text/plain": [
       "48139.5348837087"
      ]
     },
     "execution_count": 49,
     "metadata": {},
     "output_type": "execute_result"
    }
   ],
   "source": [
    "regressor.intercept"
   ]
  },
  {
   "cell_type": "code",
   "execution_count": 50,
   "id": "71a4671b",
   "metadata": {
    "scrolled": true
   },
   "outputs": [
    {
     "name": "stdout",
     "output_type": "stream",
     "text": [
      "+-------------------+------+------------------+\n",
      "|Independant feature|salary|        prediction|\n",
      "+-------------------+------+------------------+\n",
      "|         [1.0,26.0]| 10000|23720.930232558516|\n",
      "|         [2.0,27.0]| 50000|28372.093023256653|\n",
      "|         [3.0,25.0]| 20000|36511.627906976595|\n",
      "|         [3.0,25.0]| 30000|36511.627906976595|\n",
      "|        [10.0,26.0]| 10000|  76046.5116279072|\n",
      "+-------------------+------+------------------+\n",
      "\n"
     ]
    }
   ],
   "source": [
    "predict_result = regressor.evaluate(test_data)\n",
    "predict_result.predictions.show()"
   ]
  },
  {
   "cell_type": "code",
   "execution_count": 51,
   "id": "1c86908f",
   "metadata": {},
   "outputs": [
    {
     "data": {
      "text/plain": [
       "(24883.72093023245, 1066641427.7988094)"
      ]
     },
     "execution_count": 51,
     "metadata": {},
     "output_type": "execute_result"
    }
   ],
   "source": [
    "predict_result.meanAbsoluteError, predict_result.meanSquaredError"
   ]
  },
  {
   "cell_type": "code",
   "execution_count": 63,
   "id": "425b6569",
   "metadata": {},
   "outputs": [
    {
     "name": "stdout",
     "output_type": "stream",
     "text": [
      "-5\n",
      "-4\n",
      "-3\n",
      "-2\n",
      "-1\n",
      "0\n",
      "1\n",
      "2\n",
      "3\n",
      "4\n",
      "5\n"
     ]
    }
   ],
   "source": [
    "for i in range(-5,6,1):\n",
    "    print(i)"
   ]
  },
  {
   "cell_type": "code",
   "execution_count": null,
   "id": "d8a0abc4",
   "metadata": {},
   "outputs": [],
   "source": []
  }
 ],
 "metadata": {
  "kernelspec": {
   "display_name": "Python 3 (ipykernel)",
   "language": "python",
   "name": "python3"
  },
  "language_info": {
   "codemirror_mode": {
    "name": "ipython",
    "version": 3
   },
   "file_extension": ".py",
   "mimetype": "text/x-python",
   "name": "python",
   "nbconvert_exporter": "python",
   "pygments_lexer": "ipython3",
   "version": "3.9.13"
  }
 },
 "nbformat": 4,
 "nbformat_minor": 5
}
